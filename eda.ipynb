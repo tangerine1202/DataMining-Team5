{
 "cells": [
  {
   "cell_type": "code",
   "execution_count": null,
   "metadata": {},
   "outputs": [],
   "source": [
    "import os \n",
    "os.environ['CUDA_VISIBLE_DEVICES'] = '0'\n",
    "\n",
    "import numpy as np\n",
    "import pandas as pd\n",
    "import plotly.express as px\n",
    "import matplotlib.pyplot as plt\n",
    "\n",
    "from tqdm.auto import tqdm\n",
    "\n",
    "import torch\n",
    "from torch.utils.data import Dataset, DataLoader \n",
    "\n",
    "from datasets import Dataset\n",
    "import evaluate\n",
    "from transformers import DefaultDataCollator\n",
    "from transformers import AutoTokenizer, AutoModelForQuestionAnswering\n",
    "from transformers import TrainingArguments, Trainer\n",
    "\n",
    "device = torch.device(\"cuda\") if torch.cuda.is_available() else torch.device(\"cpu\")\n",
    "\n",
    "PRETRAINED_MODEL_NAME = 'distilbert-base-uncased'\n",
    "# PRETRAINED_MODEL_NAME = 'deepset/roberta-base-squad2'\n",
    "tokenizer = AutoTokenizer.from_pretrained(PRETRAINED_MODEL_NAME)"
   ]
  },
  {
   "cell_type": "code",
   "execution_count": null,
   "metadata": {},
   "outputs": [],
   "source": [
    "df_train = pd.read_csv('data/Batch_answers - train_data (no-blank).csv' )\n",
    "\n",
    "# drop unnecessary columns\n",
    "df_train = df_train.drop(['Unnamed: 6', 'total no.: 7987'], axis=1)\n",
    "\n",
    "# remove quotes\n",
    "df_train['q'] = df_train['q'].str.strip('\"')\n",
    "df_train['r'] = df_train['r'].str.strip('\"')\n",
    "df_train[\"q'\"] = df_train[\"q'\"].str.strip('\"')\n",
    "df_train[\"r'\"] = df_train[\"r'\"].str.strip('\"')\n",
    "\n",
    "# drop duplicated rows\n",
    "df_train = df_train.drop_duplicates()\n",
    "\n",
    "# numerical s\n",
    "df_train['s_label'] = (df_train['s'] == 'AGREE').astype(int)\n",
    "\n",
    "# some information about the dataset\n",
    "print(df_train['s_label'].value_counts())\n",
    "print('# of distinct data:\\t', len(df_train['id'].unique()))\n",
    "print('# of data:\\t', len(df_train))\n",
    "\n",
    "# save cleaned dataset\n",
    "df_train.to_csv('data/train.tsv', sep='\\t', index=False)"
   ]
  }
 ],
 "metadata": {
  "kernelspec": {
   "display_name": "Python 3.8.10 ('venv': venv)",
   "language": "python",
   "name": "python3"
  },
  "language_info": {
   "name": "python",
   "version": "3.8.10"
  },
  "orig_nbformat": 4,
  "vscode": {
   "interpreter": {
    "hash": "dbd18ad61a764f50ef87415555d6b20bbe826f43f65518458ad3ed025fdd4cb8"
   }
  }
 },
 "nbformat": 4,
 "nbformat_minor": 2
}
