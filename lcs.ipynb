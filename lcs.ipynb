{
 "cells": [
  {
   "cell_type": "code",
   "execution_count": 1,
   "metadata": {},
   "outputs": [],
   "source": [
    "from nltk.tokenize import word_tokenize, RegexpTokenizer\n",
    "import string\n"
   ]
  },
  {
   "cell_type": "code",
   "execution_count": 3,
   "metadata": {},
   "outputs": [],
   "source": [
    "def lcs(X, Y):\n",
    "    # find the length of the strings\n",
    "    X_token = word_tokenize(X)\n",
    "    Y_token = word_tokenize(Y)\n",
    "\n",
    "    X = [x for x in X_token if x not in string.punctuation]\t\n",
    "    Y = [x for x in Y_token if x not in string.punctuation]\t\n",
    "\n",
    "    m = len(X)\n",
    "    n = len(Y)\n",
    "\n",
    "    total_length = m + n\n",
    " \n",
    "    # declaring the array for storing the dp values\n",
    "    L = [[None]*(n + 1) for i in range(m + 1)]\n",
    " \n",
    "    \"\"\"Following steps build L[m + 1][n + 1] in bottom up fashion\n",
    "    Note: L[i][j] contains length of LCS of X[0..i-1]\n",
    "    and Y[0..j-1]\"\"\"\n",
    "    for i in range(m + 1):\n",
    "        for j in range(n + 1):\n",
    "            if i == 0 or j == 0 :\n",
    "                L[i][j] = 0\n",
    "            elif X[i-1] == Y[j-1]:\n",
    "                L[i][j] = L[i-1][j-1]+1\n",
    "            else:\n",
    "                L[i][j] = max(L[i-1][j], L[i][j-1])\n",
    " \n",
    "    # L[m][n] contains the length of LCS of X[0..n-1] & Y[0..m-1]\n",
    "    LSC = L[m][n]\n",
    "    score = (LSC/(total_length - LSC))\n",
    "    return score\n",
    "# end of function lcs"
   ]
  },
  {
   "cell_type": "code",
   "execution_count": 4,
   "metadata": {},
   "outputs": [
    {
     "name": "stdout",
     "output_type": "stream",
     "text": [
      "1.5\n"
     ]
    }
   ],
   "source": [
    "q = \"not to be? No, to be\"\n",
    "q_hat = [\"to be or not to be\", \"I don't care\"]\n",
    "\n",
    "r = \"I don't know\"\n",
    "r_hat = [\"I don't know\", \"I don't care\"]\n",
    "\n",
    "\n",
    "score = 0\n",
    "\n",
    "for i in range(len(q_hat)):\n",
    "    score = max(score, lcs(q, q_hat[i]) + lcs(r, r_hat[i]))\n",
    "\n",
    "print(score)"
   ]
  }
 ],
 "metadata": {
  "kernelspec": {
   "display_name": "Python 3.8.10 ('dm_venv')",
   "language": "python",
   "name": "python3"
  },
  "language_info": {
   "codemirror_mode": {
    "name": "ipython",
    "version": 3
   },
   "file_extension": ".py",
   "mimetype": "text/x-python",
   "name": "python",
   "nbconvert_exporter": "python",
   "pygments_lexer": "ipython3",
   "version": "3.8.10"
  },
  "orig_nbformat": 4,
  "vscode": {
   "interpreter": {
    "hash": "9a1b15c7b09c59f07da701710145ac380141b18bf7573e712d1ad76edd45c540"
   }
  }
 },
 "nbformat": 4,
 "nbformat_minor": 2
}
